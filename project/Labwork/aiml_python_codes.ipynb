{
  "nbformat": 4,
  "nbformat_minor": 0,
  "metadata": {
    "colab": {
      "provenance": []
    },
    "kernelspec": {
      "name": "python3",
      "display_name": "Python 3"
    },
    "language_info": {
      "name": "python"
    }
  },
  "cells": [
    {
      "cell_type": "markdown",
      "source": [
        "Uninformed Search Technique (BFS, DFS, IDDFS)"
      ],
      "metadata": {
        "id": "m4sEsuw4VVuQ"
      }
    },
    {
      "cell_type": "code",
      "source": [
        "from collections import deque\n",
        "\n",
        "def bfs(g, start):\n",
        "    visited = set()\n",
        "    queue = deque([start])\n",
        "    while queue:\n",
        "        node = queue.popleft()\n",
        "        if node not in visited:\n",
        "            print(node)\n",
        "            visited.add(node)\n",
        "            for n in g[node]:\n",
        "                if n not in visited:\n",
        "                    queue.append(n)\n",
        "g = {\n",
        "    1: [4, 2],\n",
        "    2: [3, 1, 5],\n",
        "    3: [6, 4],\n",
        "    4: [1, 5],\n",
        "    5: [4, 3],\n",
        "    6: [4]\n",
        "}\n",
        "bfs(g, 1)"
      ],
      "metadata": {
        "colab": {
          "base_uri": "https://localhost:8080/"
        },
        "id": "zeR6DDaaVr0U",
        "outputId": "aa426a30-a8db-470b-c2a8-3794d81c4978"
      },
      "execution_count": 7,
      "outputs": [
        {
          "output_type": "stream",
          "name": "stdout",
          "text": [
            "1\n",
            "4\n",
            "2\n",
            "5\n",
            "3\n",
            "6\n"
          ]
        }
      ]
    },
    {
      "cell_type": "code",
      "source": [
        "def dfs(g, start):\n",
        "    visited = set()\n",
        "    stack = [start]\n",
        "\n",
        "    while stack:\n",
        "        node = stack.pop()\n",
        "        if node not in visited:\n",
        "            print(node)\n",
        "            visited.add(node)\n",
        "            stack.extend(reversed(g[node]))\n",
        "g = {\n",
        "    1: [3, 4],\n",
        "    2: [1, 2, 5],\n",
        "    3: [1, 6],\n",
        "    4: [2, 5],\n",
        "    5: [3, 4],\n",
        "    6: [4]\n",
        "}\n",
        "dfs(g, 1)"
      ],
      "metadata": {
        "colab": {
          "base_uri": "https://localhost:8080/"
        },
        "id": "8PQ_EfMJWIGn",
        "outputId": "6abd5ffc-d1d6-42c8-a037-7d021e2ca8cc"
      },
      "execution_count": 8,
      "outputs": [
        {
          "output_type": "stream",
          "name": "stdout",
          "text": [
            "1\n",
            "3\n",
            "6\n",
            "4\n",
            "2\n",
            "5\n"
          ]
        }
      ]
    },
    {
      "cell_type": "code",
      "source": [
        "def iddfs(g, start, max_depth):\n",
        "    def dfs(node, depth, visited):\n",
        "        if depth == 0:\n",
        "            return\n",
        "        print(node)\n",
        "        visited.add(node)\n",
        "        for neighbor in g[node]:\n",
        "            if neighbor not in visited:\n",
        "                dfs(neighbor, depth - 1, visited)\n",
        "\n",
        "    for depth in range(1, max_depth + 1):\n",
        "        print(f\"Depth {depth}:\")\n",
        "        visited = set()\n",
        "        dfs(start, depth, visited)\n",
        "        print()\n",
        "g = {\n",
        "    1: [1, 4],\n",
        "    2: [2, 3, 5],\n",
        "    3: [2, 5],\n",
        "    4: [1, 4],\n",
        "    5: [1, 2],\n",
        "    6: [4]\n",
        "}\n",
        "iddfs(g, 1, 3)"
      ],
      "metadata": {
        "colab": {
          "base_uri": "https://localhost:8080/"
        },
        "id": "qkoIB2DLWj9w",
        "outputId": "3123a8be-d2a1-45b0-876f-7f2bce3581bf"
      },
      "execution_count": 12,
      "outputs": [
        {
          "output_type": "stream",
          "name": "stdout",
          "text": [
            "Depth 1:\n",
            "1\n",
            "\n",
            "Depth 2:\n",
            "1\n",
            "4\n",
            "\n",
            "Depth 3:\n",
            "1\n",
            "4\n",
            "\n"
          ]
        }
      ]
    },
    {
      "cell_type": "markdown",
      "source": [
        "Informed Search Technique(A*, Best First Search)"
      ],
      "metadata": {
        "id": "Gwn2OaHgXIIn"
      }
    },
    {
      "cell_type": "code",
      "source": [
        "import heapq\n",
        "def astar(graph, start, goal, h):\n",
        "    queue = [(h[start], start, 0)]\n",
        "    visited = set()\n",
        "    while queue:\n",
        "        f, node, g = heapq.heappop(queue)\n",
        "        if node in visited:\n",
        "            continue\n",
        "        print(node)\n",
        "        visited.add(node)\n",
        "        if node == goal:\n",
        "            break\n",
        "        for neighbor, cost in graph[node]:\n",
        "            if neighbor not in visited:\n",
        "                new_g = g + cost\n",
        "                new_f = new_g + h[neighbor]\n",
        "                heapq.heappush(queue, (new_f, neighbor, new_g))\n",
        "\n",
        "# Graph:(neighbor, cost) pairs\n",
        "graph = {\n",
        "    1: [(2, 4), (1, 4)],\n",
        "    2: [(3, 1), (2, 4)],\n",
        "    3: [(5, 2)],\n",
        "    4: [(6, 5)],\n",
        "    5: [(6, 3)],\n",
        "    6: []\n",
        "}\n",
        "# Heuristic function\n",
        "h = {\n",
        "    1: 5,\n",
        "    2: 3,\n",
        "    3: 2,\n",
        "    4: 2,\n",
        "    5: 1,\n",
        "    6: 0\n",
        "}\n",
        "astar(graph, 1, 6, h)\n"
      ],
      "metadata": {
        "colab": {
          "base_uri": "https://localhost:8080/"
        },
        "id": "VHts6OBDXTJD",
        "outputId": "d2120ed4-4b52-4fb5-8a79-c3905b93473b"
      },
      "execution_count": 15,
      "outputs": [
        {
          "output_type": "stream",
          "name": "stdout",
          "text": [
            "1\n",
            "2\n",
            "3\n",
            "5\n",
            "6\n"
          ]
        }
      ]
    },
    {
      "cell_type": "code",
      "source": [
        "import heapq\n",
        "def best_first_search(graph, start, goal, h):\n",
        "    queue = [(h[start], start)]\n",
        "    visited = set()\n",
        "\n",
        "    while queue:\n",
        "        _, node = heapq.heappop(queue)\n",
        "        if node in visited:\n",
        "            continue\n",
        "        print(node)\n",
        "        visited.add(node)\n",
        "        if node == goal:\n",
        "            break\n",
        "        for neighbor, _ in graph[node]:\n",
        "            if neighbor not in visited:\n",
        "                heapq.heappush(queue, (h[neighbor], neighbor))\n",
        "graph = {\n",
        "    1: [(2, 1), (2, 4)],\n",
        "    2: [(4, 6), (5, 4)],\n",
        "    3: [(6, 2)],\n",
        "    4: [(6, 2)],\n",
        "    5: [(4, 6)],\n",
        "    6: []\n",
        "}\n",
        "h = {\n",
        "    1: 5,\n",
        "    2: 3,\n",
        "    3: 2,\n",
        "    4: 2,\n",
        "    5: 1,\n",
        "    6: 0\n",
        "}\n",
        "best_first_search(graph, 1, 6, h)\n"
      ],
      "metadata": {
        "colab": {
          "base_uri": "https://localhost:8080/"
        },
        "id": "FnoXUEQMXeh3",
        "outputId": "7ce8ea50-815b-4022-b5d5-f4a827a299d2"
      },
      "execution_count": 18,
      "outputs": [
        {
          "output_type": "stream",
          "name": "stdout",
          "text": [
            "1\n",
            "2\n",
            "5\n",
            "4\n",
            "6\n"
          ]
        }
      ]
    },
    {
      "cell_type": "markdown",
      "source": [
        "Adversal Search Technique (Alpha-Beta,MIN-MAX)"
      ],
      "metadata": {
        "id": "ddGoooYNXuQ9"
      }
    },
    {
      "cell_type": "code",
      "source": [
        "import math\n",
        "\n",
        "MIN = -math.inf\n",
        "MAX = math.inf\n",
        "\n",
        "def alpha_beta(depth, node_index, maximizing_player, values, alpha, beta):\n",
        "    if depth == 3:\n",
        "        return values[node_index]\n",
        "\n",
        "    if maximizing_player:\n",
        "        max_eval = MIN\n",
        "        for i in range(2):\n",
        "            eval = alpha_beta(depth + 1, node_index * 2 + i, False, values, alpha, beta)\n",
        "            max_eval = max(max_eval, eval)\n",
        "            alpha = max(alpha, eval)\n",
        "            if beta <= alpha:\n",
        "                break\n",
        "        return max_eval\n",
        "    else:\n",
        "        min_eval = MAX\n",
        "        for i in range(2):\n",
        "            eval = alpha_beta(depth + 1, node_index * 2 + i, True, values, alpha, beta)\n",
        "            min_eval = min(min_eval, eval)\n",
        "            beta = min(beta, eval)\n",
        "            if beta <= alpha:\n",
        "                break\n",
        "        return min_eval\n",
        "\n",
        "values = [2, 4, 7, 8, 2, 1, -1, 0]\n",
        "result = alpha_beta(0, 0, True, values, MIN, MAX)\n",
        "print(\"The optimal value is:\", result)\n"
      ],
      "metadata": {
        "colab": {
          "base_uri": "https://localhost:8080/"
        },
        "id": "wF837RGEX4bj",
        "outputId": "0c1cb8c1-ec3c-4ec9-c888-9589641886b6"
      },
      "execution_count": 19,
      "outputs": [
        {
          "output_type": "stream",
          "name": "stdout",
          "text": [
            "The optimal value is: 4\n"
          ]
        }
      ]
    },
    {
      "cell_type": "code",
      "source": [
        "def minimax(depth, is_maximizing, values):\n",
        "    if depth == len(values):\n",
        "        return values[depth - 1]\n",
        "\n",
        "    if is_maximizing:\n",
        "        best_value = float('-inf')\n",
        "        for i in range(2):\n",
        "            val = minimax(depth + 1, False, values)\n",
        "            best_value = max(best_value, val)\n",
        "        return best_value\n",
        "    else:\n",
        "        best_value = float('inf')\n",
        "        for i in range(2):\n",
        "            val = minimax(depth + 1, True, values)\n",
        "            best_value = min(best_value, val)\n",
        "        return best_value\n",
        "\n",
        "values = [12, 10, 7, 1, 4, 9, 3, 11]\n",
        "result = minimax(1, True, values)\n",
        "print(\"The optimal value is:\", result)\n"
      ],
      "metadata": {
        "colab": {
          "base_uri": "https://localhost:8080/"
        },
        "id": "Lq5EV1ZlYCpa",
        "outputId": "b809c13e-dd2c-4578-ad59-22085bd5fb29"
      },
      "execution_count": 20,
      "outputs": [
        {
          "output_type": "stream",
          "name": "stdout",
          "text": [
            "The optimal value is: 11\n"
          ]
        }
      ]
    }
  ]
}