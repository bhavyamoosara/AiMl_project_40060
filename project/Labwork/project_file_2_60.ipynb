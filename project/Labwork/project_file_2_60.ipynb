{
  "nbformat": 4,
  "nbformat_minor": 0,
  "metadata": {
    "colab": {
      "provenance": []
    },
    "kernelspec": {
      "name": "python3",
      "display_name": "Python 3"
    },
    "language_info": {
      "name": "python"
    }
  },
  "cells": [
    {
      "cell_type": "code",
      "source": [],
      "metadata": {
        "id": "s7v3KVlgOTT5"
      },
      "execution_count": null,
      "outputs": []
    },
    {
      "cell_type": "code",
      "source": [
        "def isSafe(graph, color):\n",
        "\n",
        "    for i in range(4):\n",
        "        for j in range(i + 1, 4):\n",
        "            if (graph[i][j] and color[j] == color[i]):\n",
        "                return False\n",
        "    return True\n",
        "\n",
        "def graphColoring(graph, m, i, color):\n",
        "\n",
        "    if (i == 4):\n",
        "\n",
        "        if (isSafe(graph, color)):\n",
        "\n",
        "            display(color)\n",
        "            return True\n",
        "        return False\n",
        "\n",
        "    for j in range(1, m + 1):\n",
        "        color[i] = j\n",
        "\n",
        "        if (graphColoring(graph, m, i + 1, color)):\n",
        "            return True\n",
        "        color[i] = 0\n",
        "    return False\n",
        "\n",
        "def display(color):\n",
        "    print(\"Solution Exists:\" \" Following are the assigned colors \")\n",
        "    for i in range(4):\n",
        "        print(\"Vertex\", i+1 ,\" is given color: \",color[i])\n",
        "\n",
        "if __name__ == '__main__':\n",
        "    graph = [\n",
        "    [ 0, 1, 1, 1 ],\n",
        "    [ 1, 0, 1, 0 ],\n",
        "    [ 1, 1, 0, 1 ],\n",
        "    [ 1, 0, 1, 0 ],\n",
        "    ]\n",
        "    m = 3\n",
        "\n",
        "    color = [0 for i in range(4)]\n",
        "\n",
        "\n",
        "    if (not graphColoring(graph, m, 0, color)):\n",
        "        print (\"Solution does not exist\")"
      ],
      "metadata": {
        "colab": {
          "base_uri": "https://localhost:8080/"
        },
        "id": "lAmM-nhJzFhy",
        "outputId": "60421be2-1393-4673-9fd9-c0a737da52e0"
      },
      "execution_count": 13,
      "outputs": [
        {
          "output_type": "stream",
          "name": "stdout",
          "text": [
            "Solution Exists: Following are the assigned colors \n",
            "Vertex 1  is given color:  1\n",
            "Vertex 2  is given color:  2\n",
            "Vertex 3  is given color:  3\n",
            "Vertex 4  is given color:  2\n"
          ]
        }
      ]
    }
  ]
}